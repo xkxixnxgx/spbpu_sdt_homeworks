{
 "cells": [
  {
   "cell_type": "code",
   "execution_count": 4,
   "id": "930b3df0",
   "metadata": {},
   "outputs": [
    {
     "ename": "error",
     "evalue": "OpenCV(4.6.0) /io/opencv/modules/imgproc/src/color.cpp:182: error: (-215:Assertion failed) !_src.empty() in function 'cvtColor'\n",
     "output_type": "error",
     "traceback": [
      "\u001b[0;31m---------------------------------------------------------------------------\u001b[0m",
      "\u001b[0;31merror\u001b[0m                                     Traceback (most recent call last)",
      "Cell \u001b[0;32mIn[4], line 15\u001b[0m\n\u001b[1;32m     13\u001b[0m \u001b[39mwhile\u001b[39;00m (\u001b[39mTrue\u001b[39;00m):\n\u001b[1;32m     14\u001b[0m     connected, image \u001b[39m=\u001b[39m camera\u001b[39m.\u001b[39mread()\n\u001b[0;32m---> 15\u001b[0m     image_gray \u001b[39m=\u001b[39m cv2\u001b[39m.\u001b[39;49mcvtColor(image, cv2\u001b[39m.\u001b[39;49mCOLOR_BGR2GRAY)\n\u001b[1;32m     16\u001b[0m     detections \u001b[39m=\u001b[39m face_detector\u001b[39m.\u001b[39mdetectMultiScale(image_gray, scaleFactor\u001b[39m=\u001b[39m\u001b[39m1.5\u001b[39m, minSize\u001b[39m=\u001b[39m(\u001b[39m30\u001b[39m,\u001b[39m30\u001b[39m))\n\u001b[1;32m     17\u001b[0m     \u001b[39mfor\u001b[39;00m (x, y, w, h) \u001b[39min\u001b[39;00m detections:\n",
      "\u001b[0;31merror\u001b[0m: OpenCV(4.6.0) /io/opencv/modules/imgproc/src/color.cpp:182: error: (-215:Assertion failed) !_src.empty() in function 'cvtColor'\n"
     ]
    }
   ],
   "source": [
    "import cv2\n",
    "# you need to import one more library, opencv-contrib-python\n",
    "# pip install opencv-contrib-python\n",
    "face_detector = cv2.CascadeClassifier(\"haarcascade_frontalface_default.xml\")  #usual facedetection\n",
    "face_recognizer = cv2.face.LBPHFaceRecognizer_create()\n",
    "face_recognizer.read(\"lbph_classifierOG100.yml\") # your own classifier file  (recognizer!)\n",
    "width, height = 165, 220  # my own images I resized\n",
    "font = cv2.FONT_HERSHEY_COMPLEX_SMALL\n",
    "\n",
    "input_frame = \"1.mp4\"\n",
    "camera = cv2.VideoCapture(input_frame)\n",
    "\n",
    "while (True):\n",
    "    connected, image = camera.read()\n",
    "    image_gray = cv2.cvtColor(image, cv2.COLOR_BGR2GRAY)\n",
    "    detections = face_detector.detectMultiScale(image_gray, scaleFactor=1.5, minSize=(30,30))\n",
    "    for (x, y, w, h) in detections:\n",
    "        image_face = cv2.resize(image_gray[y:y + w, x:x + h], (width, height))\n",
    "        cv2.rectangle(image, (x, y), (x + w, y + h), (0,0,255), 2)\n",
    "        id, confidence = face_recognizer.predict(image_face)\n",
    "        name = \"\"\n",
    "        if id == 1:\n",
    "            name = 'Yury'\n",
    "\n",
    "        cv2.putText(image, name, (x,y +(w+30)), font, 2, (0,0,255))\n",
    "        cv2.putText(image, str(confidence), (x,y + (h+50)), font, 1, (0,0,255))\n",
    "\n",
    "    cv2.imshow(\"Face\", image)\n",
    "    if cv2.waitKey(1) == ord('q'):\n",
    "        break\n",
    "\n",
    "camera.release()\n",
    "cv2.destroyAllWindows()"
   ]
  },
  {
   "cell_type": "code",
   "execution_count": null,
   "id": "0019d88f",
   "metadata": {},
   "outputs": [],
   "source": []
  }
 ],
 "metadata": {
  "kernelspec": {
   "display_name": "venv_homeworks_sdt",
   "language": "python",
   "name": "python3"
  },
  "language_info": {
   "codemirror_mode": {
    "name": "ipython",
    "version": 3
   },
   "file_extension": ".py",
   "mimetype": "text/x-python",
   "name": "python",
   "nbconvert_exporter": "python",
   "pygments_lexer": "ipython3",
   "version": "3.10.2"
  },
  "vscode": {
   "interpreter": {
    "hash": "9b77d8a2effab1ba25922da0c4c81ff0352d3c51593844af95c490f6561b2d93"
   }
  }
 },
 "nbformat": 4,
 "nbformat_minor": 5
}
