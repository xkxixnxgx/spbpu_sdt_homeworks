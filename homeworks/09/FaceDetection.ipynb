{
 "cells": [
  {
   "cell_type": "code",
   "execution_count": 3,
   "id": "516d8aa5",
   "metadata": {},
   "outputs": [
    {
     "name": "stderr",
     "output_type": "stream",
     "text": [
      "[ WARN:0@88.940] global /io/opencv/modules/videoio/src/cap_v4l.cpp (902) open VIDEOIO(V4L2:/dev/video0): can't open camera by index\n"
     ]
    },
    {
     "ename": "error",
     "evalue": "OpenCV(4.6.0) /io/opencv/modules/imgproc/src/color.cpp:182: error: (-215:Assertion failed) !_src.empty() in function 'cvtColor'\n",
     "output_type": "error",
     "traceback": [
      "\u001b[0;31m---------------------------------------------------------------------------\u001b[0m",
      "\u001b[0;31merror\u001b[0m                                     Traceback (most recent call last)",
      "Cell \u001b[0;32mIn [3], line 14\u001b[0m\n\u001b[1;32m     10\u001b[0m \u001b[39mwhile\u001b[39;00m \u001b[39mTrue\u001b[39;00m: \u001b[39m# infinite loop\u001b[39;00m\n\u001b[1;32m     11\u001b[0m     \u001b[39m# Capture frame-by-frame\u001b[39;00m\n\u001b[1;32m     12\u001b[0m     ret, frame \u001b[39m=\u001b[39m video_capture\u001b[39m.\u001b[39mread()  \u001b[39m# capturess images frame by frame\u001b[39;00m\n\u001b[0;32m---> 14\u001b[0m     image_gray \u001b[39m=\u001b[39m cv2\u001b[39m.\u001b[39;49mcvtColor(frame, cv2\u001b[39m.\u001b[39;49mCOLOR_BGR2GRAY) \u001b[39m#converrt to grayscale\u001b[39;00m\n\u001b[1;32m     16\u001b[0m     detections \u001b[39m=\u001b[39m face_detector\u001b[39m.\u001b[39mdetectMultiScale(image_gray, minSize\u001b[39m=\u001b[39m(\u001b[39m100\u001b[39m, \u001b[39m100\u001b[39m), \u001b[39m#using cascade detect my face\u001b[39;00m\n\u001b[1;32m     17\u001b[0m                                                 minNeighbors\u001b[39m=\u001b[39m\u001b[39m5\u001b[39m)  \u001b[39m#you can tune the parameters here\u001b[39;00m\n\u001b[1;32m     19\u001b[0m     \u001b[39m# Draw a rectangle around the faces\u001b[39;00m\n",
      "\u001b[0;31merror\u001b[0m: OpenCV(4.6.0) /io/opencv/modules/imgproc/src/color.cpp:182: error: (-215:Assertion failed) !_src.empty() in function 'cvtColor'\n"
     ]
    }
   ],
   "source": [
    "import cv2\n",
    "#pip install opencv-python\n",
    "\n",
    "#you need to instll opencv AGAIN, YES THIS IS ANOTHER ENVIRONMENT\n",
    "# if it doesnt work try this:     pip install --user opencv-python==4.5.5.64\n",
    "face_detector = cv2.CascadeClassifier('haarcascade_frontalface_default.xml')\n",
    "\n",
    "video_capture = cv2.VideoCapture(0)  # zero means we want video from webcam\n",
    "\n",
    "while True: # infinite loop\n",
    "    # Capture frame-by-frame\n",
    "    ret, frame = video_capture.read()  # capturess images frame by frame\n",
    "\n",
    "    image_gray = cv2.cvtColor(frame, cv2.COLOR_BGR2GRAY) #converrt to grayscale\n",
    "\n",
    "    detections = face_detector.detectMultiScale(image_gray, minSize=(100, 100), #using cascade detect my face\n",
    "                                                minNeighbors=5)  #you can tune the parameters here\n",
    "\n",
    "    # Draw a rectangle around the faces\n",
    "    for (x, y, w, h) in detections:  #draw rectangle here with parameters\n",
    "        print(w, h)\n",
    "        cv2.rectangle(frame, (x, y), (x+w, y+h), (0, 255, 0), 2)\n",
    "\n",
    "    # Display the resulting frame\n",
    "    cv2.imshow('Video', frame)\n",
    "\n",
    "    if cv2.waitKey(1) & 0xFF == ord('q'):  # press   q to kill the process\n",
    "        break\n",
    "\n",
    "# When everything is done, release the capture\n",
    "video_capture.release()  #release memory\n",
    "cv2.destroyAllWindows()"
   ]
  },
  {
   "cell_type": "code",
   "execution_count": null,
   "id": "5796c3fa",
   "metadata": {},
   "outputs": [],
   "source": []
  }
 ],
 "metadata": {
  "kernelspec": {
   "display_name": "venv_homeworks_sdt",
   "language": "python",
   "name": "python3"
  },
  "language_info": {
   "codemirror_mode": {
    "name": "ipython",
    "version": 3
   },
   "file_extension": ".py",
   "mimetype": "text/x-python",
   "name": "python",
   "nbconvert_exporter": "python",
   "pygments_lexer": "ipython3",
   "version": "3.10.2 (main, Nov 19 2022, 12:41:07) [GCC 9.4.0]"
  },
  "vscode": {
   "interpreter": {
    "hash": "9b77d8a2effab1ba25922da0c4c81ff0352d3c51593844af95c490f6561b2d93"
   }
  }
 },
 "nbformat": 4,
 "nbformat_minor": 5
}
